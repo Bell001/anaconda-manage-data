{
 "cells": [
  {
   "cell_type": "markdown",
   "metadata": {},
   "source": [
    "Clawing"
   ]
  },
  {
   "cell_type": "code",
   "execution_count": 65,
   "metadata": {},
   "outputs": [],
   "source": [
    "import tweepy\n",
    "\n",
    "consumer_key = 's0YmRKw8u3AHEiv0EHkGWz3Cr'\n",
    "consumer_secret = 'AUQEbdCDfVn7YSvGtscmX9ZKjIWP3wTEQ02k5D8hJcKLvXP9yL'\n",
    "access_token = '3220159244-6sKt4mtmC9d9lxm3ZQUBh2OJgDG7dyQrWjdgtbv'\n",
    "access_secret = 'NXfKBrTWi8wyxPEIrmISmsmwCqIHjvBkYHuQKz3PUCu69'\n",
    "\n",
    "# Creating the authentication object\n",
    "auth = tweepy.OAuthHandler(consumer_key, consumer_secret)\n",
    "# Setting your access token and secret\n",
    "auth.set_access_token(access_token, access_secret)\n",
    "\n",
    "# Creating the API object while passing in auth information\n",
    "api = tweepy.API(auth)"
   ]
  },
  {
   "cell_type": "code",
   "execution_count": null,
   "metadata": {},
   "outputs": [],
   "source": [
    "def json_to_file(filename, data):\n",
    "    with open(filename, 'a') as outfile:\n",
    "        outfile.write(json.dumps(data))\n",
    "        outfile.write('\\n')\n",
    "    outfile.close()"
   ]
  },
  {
   "cell_type": "code",
   "execution_count": null,
   "metadata": {},
   "outputs": [],
   "source": [
    "def json_list_to_file(filename, datum):\n",
    "    for data in datum:\n",
    "        json_to_file(filename, data)\n",
    "        with open(filename, 'a') as outfile:\n",
    "        outfile.close()"
   ]
  },
  {
   "cell_type": "code",
   "execution_count": null,
   "metadata": {},
   "outputs": [],
   "source": [
    "def get_users(screen_names):\n",
    "    users = []\n",
    "    for screen_name in screen_names:\n",
    "        user = api.get_user(screen_name)\n",
    "        users.append(user)\n",
    "    return users"
   ]
  },
  {
   "cell_type": "code",
   "execution_count": null,
   "metadata": {},
   "outputs": [],
   "source": [
    "def open_json_file(filename):\n",
    "    lines = []\n",
    "    with open(filename) as f:\n",
    "        lines = f.readlines()\n",
    "    f.close()\n",
    "    data = []\n",
    "    for line in lines:\n",
    "        temp= json.loads(line)\n",
    "        data.append(temp)\n",
    "    return data"
   ]
  },
  {
   "cell_type": "code",
   "execution_count": null,
   "metadata": {},
   "outputs": [],
   "source": [
    "def get_follower(screen_name):\n",
    "    followers = results = api.followers_ids(screen_name=screen_name)\n",
    "    return followers"
   ]
  },
  {
   "cell_type": "code",
   "execution_count": null,
   "metadata": {},
   "outputs": [],
   "source": [
    "sweat16_screen_names = ['Pada_Sweat16', 'Proud_Sweat16', \n",
    "                       'Ant_Sweat16', 'Petch_Sweat16', 'Ae_Sweat16', \n",
    "                       'anny_sweat16', 'MahnmookSweat16', 'Mint_Sweat16', \n",
    "                      'Pim_Sweat16', 'Sonja_Sweat16', 'Music_Sweat16', 'Fame_Sweat16', \n",
    "                       'Nink_Sweat16']"
   ]
  },
  {
   "cell_type": "code",
   "execution_count": null,
   "metadata": {},
   "outputs": [],
   "source": [
    "sweat16_users = get_users(sweat16_screen_names)\n",
    "json_list_to_file('sweat16_users_modify.json', sweat16_users)"
   ]
  },
  {
   "cell_type": "code",
   "execution_count": null,
   "metadata": {},
   "outputs": [],
   "source": [
    "def member_followers_users(screen_name):\n",
    "        users = get_users(sweat16_followers[screen_name])\n",
    "        json_list_to_file('followers_' + screen_name + '.json', users)"
   ]
  },
  {
   "cell_type": "code",
   "execution_count": null,
   "metadata": {},
   "outputs": [],
   "source": [
    "def members_followers_users():\n",
    "    for screen_name in sweat16_followers:\n",
    "        member_follwers_users(screen_name)"
   ]
  },
  {
   "cell_type": "code",
   "execution_count": null,
   "metadata": {},
   "outputs": [],
   "source": [
    "def followers_to_file(filename, screen_name):\n",
    "    followers = get_follower(screen_name)\n",
    "    print('finish get followers')\n",
    "    json_to_file(filename,{screen_name: followers['ids']})    \n",
    "    print('finish write json to file')"
   ]
  },
  {
   "cell_type": "code",
   "execution_count": null,
   "metadata": {},
   "outputs": [],
   "source": [
    "def get_members_follower():\n",
    "    for screen_name in sweat16_screen_names:\n",
    "        followers_to_file('sweat16_followers_modify.json', screen_name)\n",
    "        print(f'already add {screen_name}')"
   ]
  },
  {
   "cell_type": "code",
   "execution_count": null,
   "metadata": {},
   "outputs": [],
   "source": [
    "get_members_follower()"
   ]
  },
  {
   "cell_type": "markdown",
   "metadata": {},
   "source": [
    "Managment"
   ]
  },
  {
   "cell_type": "code",
   "execution_count": 11,
   "metadata": {},
   "outputs": [],
   "source": [
    "import json\n",
    "import pandas as pd\n",
    "import matplotlib.pyplot as plt"
   ]
  },
  {
   "cell_type": "code",
   "execution_count": 12,
   "metadata": {},
   "outputs": [],
   "source": [
    "import re\n",
    "def word_in_text(word, text):\n",
    "    try:\n",
    "        word = word.lower()\n",
    "        text = text.lower()\n",
    "        match = re.search(word, text)\n",
    "        if match:\n",
    "            return 1\n",
    "        return 0\n",
    "    except:\n",
    "        return 0"
   ]
  },
  {
   "cell_type": "code",
   "execution_count": 13,
   "metadata": {},
   "outputs": [
    {
     "name": "stdout",
     "output_type": "stream",
     "text": [
      "\n",
      "13 tweets read.\n"
     ]
    }
   ],
   "source": [
    "import sys\n",
    "#specify path of JSON file, e.g., \"C:\\\\Program Files\\\\Anaconda2\\\\tweets.json\" for your local location\n",
    "tweets_data_path = '/Users/macbook/Downloads/Datamine/sweat16_users.json'\n",
    "\n",
    "tweets_data = []\n",
    "tweets_file = open(tweets_data_path, \"r\")\n",
    "count = 0\n",
    "for line in tweets_file:\n",
    "    try:\n",
    "        if (line == '\\n'):      # skip empty lines\n",
    "            continue\n",
    "        count = count + 1\n",
    "        tweet = json.loads(line)\n",
    "        tweets_data.append(tweet)\n",
    "        if count%100 == 0:\n",
    "            sys.stdout.write('.')\n",
    "        if count%7000 == 0:\n",
    "            sys.stdout.write('\\n')\n",
    "    except Exception as e:\n",
    "        print(e)\n",
    "        continue\n",
    "print(f\"\\n{count} tweets read.\")"
   ]
  },
  {
   "cell_type": "code",
   "execution_count": 67,
   "metadata": {},
   "outputs": [
    {
     "name": "stdout",
     "output_type": "stream",
     "text": [
      "                           name      screen_name Location profile_location  \\\n",
      "0                   Pada (◞ꈍ∇ꈍ)     Pada_Sweat16     None             None   \n",
      "1   Proud ˚✧₊⁎❝᷀ົཽ≀ˍ̮ ❝᷀ົཽ⁎⁺˳✧༚    Proud_Sweat16     None             None   \n",
      "2                  Ant (*´∀`)~♥      Ant_Sweat16     None             None   \n",
      "3                  Petch (。◕‿-)    Petch_Sweat16     None             None   \n",
      "4                   Ae (*^-^*)ゞ       Ae_Sweat16     None             None   \n",
      "5            Anny //(｡•́︿•̀｡)//     anny_sweat16     None             None   \n",
      "6            Mahnmook ٩(๑^◡^๑)۶  MahnmookSweat16     None             None   \n",
      "7                  Mint (=^ェ^=)     Mint_Sweat16     None             None   \n",
      "8                 Pim o(^･x･^)o      Pim_Sweat16     None             None   \n",
      "9                 Sonja ヽ(^o^)丿    Sonja_Sweat16     None             None   \n",
      "10             Music ヽ(✿◕‿◕)ﾉ”♫    Music_Sweat16     None             None   \n",
      "11                  Fame (〃^ω^)     Fame_Sweat16     None             None   \n",
      "12          Nink ೭(˵¯̴͒ꇴ¯̴͒˵)౨”     Nink_Sweat16     None             None   \n",
      "\n",
      "                                          description  \\\n",
      "0                            ʕ •ᴥ• ʔ คุณหมี sweat16 !   \n",
      "1                           ไอ แอม เป็ดปักกิ่ง 🦆✨⚡️🔥🌈   \n",
      "2                                                       \n",
      "3   Привет! Меня зовут Pansa 🐽 I'm Petch Sweat16! ...   \n",
      "4   [Ae Sweat16!]​ \\nIG: ae_khunwassana\\n/ Page Fa...   \n",
      "5   Facebook page ( Official ) : Anny​ Sweat16 IG ...   \n",
      "6                           Sweat16! 🐷 IG : mahnmoo_k   \n",
      "7   มิ้น Mint หรือ ミント !!!! ผู้ซึ่งเป็นกระต่ายงอแง...   \n",
      "8                                พิม ピム Sweat16! ❤️✌🏻   \n",
      "9   Idol group Sweat16!\\nHalf thai/Irish walking k...   \n",
      "10  IG:musizicc 👉🏻มิวสิคกับเจ้าฉลามมมมง่ำๆ🦈 ด้วยพล...   \n",
      "11                       เบบี้แคท🐱\\nIG : fame.babycat   \n",
      "12      ➹เจ้าเด็กเเก้มเเตก! ɴɪɴᴋ ᴘʜɪᴛᴄʜᴀᴘʜᴀ | ニンク◡̈ ♡   \n",
      "\n",
      "                        url  protected  followers_count  friends_count  \\\n",
      "0                      None      False              882             15   \n",
      "1                      None      False             1243             58   \n",
      "2                      None      False             1096             19   \n",
      "3   https://t.co/d1y15AVR0q      False             1147             31   \n",
      "4   https://t.co/ILgqXHFLxU      False             1190             87   \n",
      "5                      None      False              941             15   \n",
      "6   https://t.co/ilROzSJ3y9      False             2669             39   \n",
      "7   https://t.co/7V99O56UIN      False             1516             30   \n",
      "8                      None      False             1467             70   \n",
      "9                      None      False             1475             39   \n",
      "10                     None      False             1545             49   \n",
      "11  https://t.co/fMi9RdTT7j      False             1099             67   \n",
      "12  https://t.co/1AeYZ1buzc      False             1144             24   \n",
      "\n",
      "                        created_at  favourites_count lang  \\\n",
      "0   Wed Jul 05 01:33:16 +0000 2017               349   th   \n",
      "1   Thu Aug 10 14:10:38 +0000 2017              4479   th   \n",
      "2   Fri Aug 11 05:18:36 +0000 2017               932   th   \n",
      "3   Thu Aug 10 15:25:04 +0000 2017              2115   th   \n",
      "4   Thu Aug 10 13:46:51 +0000 2017              9121   th   \n",
      "5   Thu Aug 10 15:21:43 +0000 2017               829   th   \n",
      "6   Thu Aug 10 15:57:20 +0000 2017              3553   th   \n",
      "7   Thu Aug 10 15:36:03 +0000 2017               940   th   \n",
      "8   Thu Aug 10 11:39:43 +0000 2017              3432   th   \n",
      "9   Thu Aug 10 11:39:17 +0000 2017              2460   en   \n",
      "10  Thu Aug 10 11:00:04 +0000 2017              3402   en   \n",
      "11  Thu Aug 10 10:39:35 +0000 2017              6414   th   \n",
      "12  Thu Aug 10 11:25:13 +0000 2017              2773   th   \n",
      "\n",
      "   profile_backgorund_color profile_link_color  has_extended_profile  \\\n",
      "0                      None               None                 False   \n",
      "1                      None               None                  True   \n",
      "2                      None               None                  True   \n",
      "3                      None               None                 False   \n",
      "4                      None               None                  True   \n",
      "5                      None               None                  True   \n",
      "6                      None               None                 False   \n",
      "7                      None               None                 False   \n",
      "8                      None               None                 False   \n",
      "9                      None               None                  True   \n",
      "10                     None               None                 False   \n",
      "11                     None               None                  True   \n",
      "12                     None               None                 False   \n",
      "\n",
      "    default_profile  default_profile_image  \n",
      "0              True                  False  \n",
      "1              True                  False  \n",
      "2              True                  False  \n",
      "3              True                  False  \n",
      "4              True                  False  \n",
      "5              True                  False  \n",
      "6              True                  False  \n",
      "7              True                  False  \n",
      "8              True                  False  \n",
      "9              True                  False  \n",
      "10             True                  False  \n",
      "11             True                  False  \n",
      "12             True                  False  \n"
     ]
    }
   ],
   "source": [
    "tweets = pd.DataFrame()\n",
    "tweets['name'] = list(map(lambda tweet: tweet.get('name', None), tweets_data))\n",
    "tweets['screen_name'] = list(map(lambda tweet: tweet.get('screen_name', None), tweets_data))\n",
    "tweets['Location'] = list(map(lambda tweet: tweet.get('Location', None), tweets_data))\n",
    "tweets['profile_location'] = list(map(lambda tweet: tweet.get('profile_location', None), tweets_data))\n",
    "tweets['description'] = list(map(lambda tweet: tweet.get('description', None), tweets_data))\n",
    "tweets['url'] = list(map(lambda tweet: tweet.get('url', None), tweets_data))\n",
    "tweets['protected'] = list(map(lambda tweet: tweet.get('protected', None), tweets_data))\n",
    "tweets['followers_count'] = list(map(lambda tweet: tweet.get('followers_count', None), tweets_data))\n",
    "tweets['friends_count'] = list(map(lambda tweet: tweet.get('friends_count', None), tweets_data))\n",
    "tweets['created_at'] = list(map(lambda tweet: tweet.get('created_at', None), tweets_data))\n",
    "tweets['favourites_count'] = list(map(lambda tweet: tweet.get('favourites_count', None), tweets_data))\n",
    "tweets['lang'] = list(map(lambda tweet: tweet.get('lang', None), tweets_data))\n",
    "tweets['profile_backgorund_color'] = list(map(lambda tweet: tweet.get('profile_backgorund_color', None), tweets_data))\n",
    "tweets['profile_link_color'] = list(map(lambda tweet: tweet.get('profile_backgorund_color', None), tweets_data))\n",
    "tweets['has_extended_profile'] = list(map(lambda tweet: tweet.get('has_extended_profile', None), tweets_data))\n",
    "tweets['default_profile'] = list(map(lambda tweet: tweet.get('default_profile', None), tweets_data))\n",
    "tweets['default_profile_image'] = list(map(lambda tweet: tweet.get('default_profile_image', None), tweets_data))\n",
    "print(tweets)"
   ]
  },
  {
   "cell_type": "code",
   "execution_count": 68,
   "metadata": {},
   "outputs": [
    {
     "data": {
      "text/html": [
       "<div>\n",
       "<style scoped>\n",
       "    .dataframe tbody tr th:only-of-type {\n",
       "        vertical-align: middle;\n",
       "    }\n",
       "\n",
       "    .dataframe tbody tr th {\n",
       "        vertical-align: top;\n",
       "    }\n",
       "\n",
       "    .dataframe thead th {\n",
       "        text-align: right;\n",
       "    }\n",
       "</style>\n",
       "<table border=\"1\" class=\"dataframe\">\n",
       "  <thead>\n",
       "    <tr style=\"text-align: right;\">\n",
       "      <th></th>\n",
       "      <th>screen_name</th>\n",
       "      <th>Location</th>\n",
       "      <th>profile_location</th>\n",
       "      <th>description</th>\n",
       "      <th>url</th>\n",
       "      <th>protected</th>\n",
       "      <th>followers_count</th>\n",
       "      <th>friends_count</th>\n",
       "      <th>created_at</th>\n",
       "      <th>favourites_count</th>\n",
       "      <th>lang</th>\n",
       "      <th>profile_backgorund_color</th>\n",
       "      <th>profile_link_color</th>\n",
       "      <th>has_extended_profile</th>\n",
       "      <th>default_profile</th>\n",
       "      <th>default_profile_image</th>\n",
       "    </tr>\n",
       "    <tr>\n",
       "      <th>name</th>\n",
       "      <th></th>\n",
       "      <th></th>\n",
       "      <th></th>\n",
       "      <th></th>\n",
       "      <th></th>\n",
       "      <th></th>\n",
       "      <th></th>\n",
       "      <th></th>\n",
       "      <th></th>\n",
       "      <th></th>\n",
       "      <th></th>\n",
       "      <th></th>\n",
       "      <th></th>\n",
       "      <th></th>\n",
       "      <th></th>\n",
       "      <th></th>\n",
       "    </tr>\n",
       "  </thead>\n",
       "  <tbody>\n",
       "    <tr>\n",
       "      <th>Ae (*^-^*)ゞ</th>\n",
       "      <td>1</td>\n",
       "      <td>0</td>\n",
       "      <td>0</td>\n",
       "      <td>1</td>\n",
       "      <td>1</td>\n",
       "      <td>1</td>\n",
       "      <td>1</td>\n",
       "      <td>1</td>\n",
       "      <td>1</td>\n",
       "      <td>1</td>\n",
       "      <td>1</td>\n",
       "      <td>0</td>\n",
       "      <td>0</td>\n",
       "      <td>1</td>\n",
       "      <td>1</td>\n",
       "      <td>1</td>\n",
       "    </tr>\n",
       "    <tr>\n",
       "      <th>Anny //(｡•́︿•̀｡)//</th>\n",
       "      <td>1</td>\n",
       "      <td>0</td>\n",
       "      <td>0</td>\n",
       "      <td>1</td>\n",
       "      <td>0</td>\n",
       "      <td>1</td>\n",
       "      <td>1</td>\n",
       "      <td>1</td>\n",
       "      <td>1</td>\n",
       "      <td>1</td>\n",
       "      <td>1</td>\n",
       "      <td>0</td>\n",
       "      <td>0</td>\n",
       "      <td>1</td>\n",
       "      <td>1</td>\n",
       "      <td>1</td>\n",
       "    </tr>\n",
       "    <tr>\n",
       "      <th>Ant (*´∀`)~♥</th>\n",
       "      <td>1</td>\n",
       "      <td>0</td>\n",
       "      <td>0</td>\n",
       "      <td>1</td>\n",
       "      <td>0</td>\n",
       "      <td>1</td>\n",
       "      <td>1</td>\n",
       "      <td>1</td>\n",
       "      <td>1</td>\n",
       "      <td>1</td>\n",
       "      <td>1</td>\n",
       "      <td>0</td>\n",
       "      <td>0</td>\n",
       "      <td>1</td>\n",
       "      <td>1</td>\n",
       "      <td>1</td>\n",
       "    </tr>\n",
       "    <tr>\n",
       "      <th>Fame (〃^ω^)</th>\n",
       "      <td>1</td>\n",
       "      <td>0</td>\n",
       "      <td>0</td>\n",
       "      <td>1</td>\n",
       "      <td>1</td>\n",
       "      <td>1</td>\n",
       "      <td>1</td>\n",
       "      <td>1</td>\n",
       "      <td>1</td>\n",
       "      <td>1</td>\n",
       "      <td>1</td>\n",
       "      <td>0</td>\n",
       "      <td>0</td>\n",
       "      <td>1</td>\n",
       "      <td>1</td>\n",
       "      <td>1</td>\n",
       "    </tr>\n",
       "    <tr>\n",
       "      <th>Mahnmook ٩(๑^◡^๑)۶</th>\n",
       "      <td>1</td>\n",
       "      <td>0</td>\n",
       "      <td>0</td>\n",
       "      <td>1</td>\n",
       "      <td>1</td>\n",
       "      <td>1</td>\n",
       "      <td>1</td>\n",
       "      <td>1</td>\n",
       "      <td>1</td>\n",
       "      <td>1</td>\n",
       "      <td>1</td>\n",
       "      <td>0</td>\n",
       "      <td>0</td>\n",
       "      <td>1</td>\n",
       "      <td>1</td>\n",
       "      <td>1</td>\n",
       "    </tr>\n",
       "    <tr>\n",
       "      <th>Mint (=^ェ^=)</th>\n",
       "      <td>1</td>\n",
       "      <td>0</td>\n",
       "      <td>0</td>\n",
       "      <td>1</td>\n",
       "      <td>1</td>\n",
       "      <td>1</td>\n",
       "      <td>1</td>\n",
       "      <td>1</td>\n",
       "      <td>1</td>\n",
       "      <td>1</td>\n",
       "      <td>1</td>\n",
       "      <td>0</td>\n",
       "      <td>0</td>\n",
       "      <td>1</td>\n",
       "      <td>1</td>\n",
       "      <td>1</td>\n",
       "    </tr>\n",
       "    <tr>\n",
       "      <th>Music ヽ(✿◕‿◕)ﾉ”♫</th>\n",
       "      <td>1</td>\n",
       "      <td>0</td>\n",
       "      <td>0</td>\n",
       "      <td>1</td>\n",
       "      <td>0</td>\n",
       "      <td>1</td>\n",
       "      <td>1</td>\n",
       "      <td>1</td>\n",
       "      <td>1</td>\n",
       "      <td>1</td>\n",
       "      <td>1</td>\n",
       "      <td>0</td>\n",
       "      <td>0</td>\n",
       "      <td>1</td>\n",
       "      <td>1</td>\n",
       "      <td>1</td>\n",
       "    </tr>\n",
       "    <tr>\n",
       "      <th>Nink ೭(˵¯̴͒ꇴ¯̴͒˵)౨”</th>\n",
       "      <td>1</td>\n",
       "      <td>0</td>\n",
       "      <td>0</td>\n",
       "      <td>1</td>\n",
       "      <td>1</td>\n",
       "      <td>1</td>\n",
       "      <td>1</td>\n",
       "      <td>1</td>\n",
       "      <td>1</td>\n",
       "      <td>1</td>\n",
       "      <td>1</td>\n",
       "      <td>0</td>\n",
       "      <td>0</td>\n",
       "      <td>1</td>\n",
       "      <td>1</td>\n",
       "      <td>1</td>\n",
       "    </tr>\n",
       "    <tr>\n",
       "      <th>Pada (◞ꈍ∇ꈍ)</th>\n",
       "      <td>1</td>\n",
       "      <td>0</td>\n",
       "      <td>0</td>\n",
       "      <td>1</td>\n",
       "      <td>0</td>\n",
       "      <td>1</td>\n",
       "      <td>1</td>\n",
       "      <td>1</td>\n",
       "      <td>1</td>\n",
       "      <td>1</td>\n",
       "      <td>1</td>\n",
       "      <td>0</td>\n",
       "      <td>0</td>\n",
       "      <td>1</td>\n",
       "      <td>1</td>\n",
       "      <td>1</td>\n",
       "    </tr>\n",
       "    <tr>\n",
       "      <th>Petch (。◕‿-)</th>\n",
       "      <td>1</td>\n",
       "      <td>0</td>\n",
       "      <td>0</td>\n",
       "      <td>1</td>\n",
       "      <td>1</td>\n",
       "      <td>1</td>\n",
       "      <td>1</td>\n",
       "      <td>1</td>\n",
       "      <td>1</td>\n",
       "      <td>1</td>\n",
       "      <td>1</td>\n",
       "      <td>0</td>\n",
       "      <td>0</td>\n",
       "      <td>1</td>\n",
       "      <td>1</td>\n",
       "      <td>1</td>\n",
       "    </tr>\n",
       "    <tr>\n",
       "      <th>Pim o(^･x･^)o</th>\n",
       "      <td>1</td>\n",
       "      <td>0</td>\n",
       "      <td>0</td>\n",
       "      <td>1</td>\n",
       "      <td>0</td>\n",
       "      <td>1</td>\n",
       "      <td>1</td>\n",
       "      <td>1</td>\n",
       "      <td>1</td>\n",
       "      <td>1</td>\n",
       "      <td>1</td>\n",
       "      <td>0</td>\n",
       "      <td>0</td>\n",
       "      <td>1</td>\n",
       "      <td>1</td>\n",
       "      <td>1</td>\n",
       "    </tr>\n",
       "    <tr>\n",
       "      <th>Proud ˚✧₊⁎❝᷀ົཽ≀ˍ̮ ❝᷀ົཽ⁎⁺˳✧༚</th>\n",
       "      <td>1</td>\n",
       "      <td>0</td>\n",
       "      <td>0</td>\n",
       "      <td>1</td>\n",
       "      <td>0</td>\n",
       "      <td>1</td>\n",
       "      <td>1</td>\n",
       "      <td>1</td>\n",
       "      <td>1</td>\n",
       "      <td>1</td>\n",
       "      <td>1</td>\n",
       "      <td>0</td>\n",
       "      <td>0</td>\n",
       "      <td>1</td>\n",
       "      <td>1</td>\n",
       "      <td>1</td>\n",
       "    </tr>\n",
       "    <tr>\n",
       "      <th>Sonja ヽ(^o^)丿</th>\n",
       "      <td>1</td>\n",
       "      <td>0</td>\n",
       "      <td>0</td>\n",
       "      <td>1</td>\n",
       "      <td>0</td>\n",
       "      <td>1</td>\n",
       "      <td>1</td>\n",
       "      <td>1</td>\n",
       "      <td>1</td>\n",
       "      <td>1</td>\n",
       "      <td>1</td>\n",
       "      <td>0</td>\n",
       "      <td>0</td>\n",
       "      <td>1</td>\n",
       "      <td>1</td>\n",
       "      <td>1</td>\n",
       "    </tr>\n",
       "  </tbody>\n",
       "</table>\n",
       "</div>"
      ],
      "text/plain": [
       "                             screen_name  Location  profile_location  \\\n",
       "name                                                                   \n",
       "Ae (*^-^*)ゞ                            1         0                 0   \n",
       "Anny //(｡•́︿•̀｡)//                     1         0                 0   \n",
       "Ant (*´∀`)~♥                           1         0                 0   \n",
       "Fame (〃^ω^)                            1         0                 0   \n",
       "Mahnmook ٩(๑^◡^๑)۶                     1         0                 0   \n",
       "Mint (=^ェ^=)                           1         0                 0   \n",
       "Music ヽ(✿◕‿◕)ﾉ”♫                       1         0                 0   \n",
       "Nink ೭(˵¯̴͒ꇴ¯̴͒˵)౨”                    1         0                 0   \n",
       "Pada (◞ꈍ∇ꈍ)                            1         0                 0   \n",
       "Petch (。◕‿-)                           1         0                 0   \n",
       "Pim o(^･x･^)o                          1         0                 0   \n",
       "Proud ˚✧₊⁎❝᷀ົཽ≀ˍ̮ ❝᷀ົཽ⁎⁺˳✧༚            1         0                 0   \n",
       "Sonja ヽ(^o^)丿                          1         0                 0   \n",
       "\n",
       "                             description  url  protected  followers_count  \\\n",
       "name                                                                        \n",
       "Ae (*^-^*)ゞ                            1    1          1                1   \n",
       "Anny //(｡•́︿•̀｡)//                     1    0          1                1   \n",
       "Ant (*´∀`)~♥                           1    0          1                1   \n",
       "Fame (〃^ω^)                            1    1          1                1   \n",
       "Mahnmook ٩(๑^◡^๑)۶                     1    1          1                1   \n",
       "Mint (=^ェ^=)                           1    1          1                1   \n",
       "Music ヽ(✿◕‿◕)ﾉ”♫                       1    0          1                1   \n",
       "Nink ೭(˵¯̴͒ꇴ¯̴͒˵)౨”                    1    1          1                1   \n",
       "Pada (◞ꈍ∇ꈍ)                            1    0          1                1   \n",
       "Petch (。◕‿-)                           1    1          1                1   \n",
       "Pim o(^･x･^)o                          1    0          1                1   \n",
       "Proud ˚✧₊⁎❝᷀ົཽ≀ˍ̮ ❝᷀ົཽ⁎⁺˳✧༚            1    0          1                1   \n",
       "Sonja ヽ(^o^)丿                          1    0          1                1   \n",
       "\n",
       "                             friends_count  created_at  favourites_count  \\\n",
       "name                                                                       \n",
       "Ae (*^-^*)ゞ                              1           1                 1   \n",
       "Anny //(｡•́︿•̀｡)//                       1           1                 1   \n",
       "Ant (*´∀`)~♥                             1           1                 1   \n",
       "Fame (〃^ω^)                              1           1                 1   \n",
       "Mahnmook ٩(๑^◡^๑)۶                       1           1                 1   \n",
       "Mint (=^ェ^=)                             1           1                 1   \n",
       "Music ヽ(✿◕‿◕)ﾉ”♫                         1           1                 1   \n",
       "Nink ೭(˵¯̴͒ꇴ¯̴͒˵)౨”                      1           1                 1   \n",
       "Pada (◞ꈍ∇ꈍ)                              1           1                 1   \n",
       "Petch (。◕‿-)                             1           1                 1   \n",
       "Pim o(^･x･^)o                            1           1                 1   \n",
       "Proud ˚✧₊⁎❝᷀ົཽ≀ˍ̮ ❝᷀ົཽ⁎⁺˳✧༚              1           1                 1   \n",
       "Sonja ヽ(^o^)丿                            1           1                 1   \n",
       "\n",
       "                             lang  profile_backgorund_color  \\\n",
       "name                                                          \n",
       "Ae (*^-^*)ゞ                     1                         0   \n",
       "Anny //(｡•́︿•̀｡)//              1                         0   \n",
       "Ant (*´∀`)~♥                    1                         0   \n",
       "Fame (〃^ω^)                     1                         0   \n",
       "Mahnmook ٩(๑^◡^๑)۶              1                         0   \n",
       "Mint (=^ェ^=)                    1                         0   \n",
       "Music ヽ(✿◕‿◕)ﾉ”♫                1                         0   \n",
       "Nink ೭(˵¯̴͒ꇴ¯̴͒˵)౨”             1                         0   \n",
       "Pada (◞ꈍ∇ꈍ)                     1                         0   \n",
       "Petch (。◕‿-)                    1                         0   \n",
       "Pim o(^･x･^)o                   1                         0   \n",
       "Proud ˚✧₊⁎❝᷀ົཽ≀ˍ̮ ❝᷀ົཽ⁎⁺˳✧༚     1                         0   \n",
       "Sonja ヽ(^o^)丿                   1                         0   \n",
       "\n",
       "                             profile_link_color  has_extended_profile  \\\n",
       "name                                                                    \n",
       "Ae (*^-^*)ゞ                                   0                     1   \n",
       "Anny //(｡•́︿•̀｡)//                            0                     1   \n",
       "Ant (*´∀`)~♥                                  0                     1   \n",
       "Fame (〃^ω^)                                   0                     1   \n",
       "Mahnmook ٩(๑^◡^๑)۶                            0                     1   \n",
       "Mint (=^ェ^=)                                  0                     1   \n",
       "Music ヽ(✿◕‿◕)ﾉ”♫                              0                     1   \n",
       "Nink ೭(˵¯̴͒ꇴ¯̴͒˵)౨”                           0                     1   \n",
       "Pada (◞ꈍ∇ꈍ)                                   0                     1   \n",
       "Petch (。◕‿-)                                  0                     1   \n",
       "Pim o(^･x･^)o                                 0                     1   \n",
       "Proud ˚✧₊⁎❝᷀ົཽ≀ˍ̮ ❝᷀ົཽ⁎⁺˳✧༚                   0                     1   \n",
       "Sonja ヽ(^o^)丿                                 0                     1   \n",
       "\n",
       "                             default_profile  default_profile_image  \n",
       "name                                                                 \n",
       "Ae (*^-^*)ゞ                                1                      1  \n",
       "Anny //(｡•́︿•̀｡)//                         1                      1  \n",
       "Ant (*´∀`)~♥                               1                      1  \n",
       "Fame (〃^ω^)                                1                      1  \n",
       "Mahnmook ٩(๑^◡^๑)۶                         1                      1  \n",
       "Mint (=^ェ^=)                               1                      1  \n",
       "Music ヽ(✿◕‿◕)ﾉ”♫                           1                      1  \n",
       "Nink ೭(˵¯̴͒ꇴ¯̴͒˵)౨”                        1                      1  \n",
       "Pada (◞ꈍ∇ꈍ)                                1                      1  \n",
       "Petch (。◕‿-)                               1                      1  \n",
       "Pim o(^･x･^)o                              1                      1  \n",
       "Proud ˚✧₊⁎❝᷀ົཽ≀ˍ̮ ❝᷀ົཽ⁎⁺˳✧༚                1                      1  \n",
       "Sonja ヽ(^o^)丿                              1                      1  "
      ]
     },
     "execution_count": 68,
     "metadata": {},
     "output_type": "execute_result"
    }
   ],
   "source": [
    "logic_tweets = tweets.groupby('name').count()\n",
    "logic_tweets"
   ]
  },
  {
   "cell_type": "code",
   "execution_count": 71,
   "metadata": {},
   "outputs": [
    {
     "data": {
      "text/plain": [
       "Pada (◞ꈍ∇ꈍ)                    1\n",
       "Anny //(｡•́︿•̀｡)//             1\n",
       "Fame (〃^ω^)                    1\n",
       "Pim o(^･x･^)o                  1\n",
       "Mint (=^ェ^=)                   1\n",
       "Mahnmook ٩(๑^◡^๑)۶             1\n",
       "Music ヽ(✿◕‿◕)ﾉ”♫               1\n",
       "Ant (*´∀`)~♥                   1\n",
       "Proud ˚✧₊⁎❝᷀ົཽ≀ˍ̮ ❝᷀ົཽ⁎⁺˳✧༚    1\n",
       "Sonja ヽ(^o^)丿                  1\n",
       "Nink ೭(˵¯̴͒ꇴ¯̴͒˵)౨”            1\n",
       "Petch (。◕‿-)                   1\n",
       "Ae (*^-^*)ゞ                    1\n",
       "Name: name, dtype: int64"
      ]
     },
     "execution_count": 71,
     "metadata": {},
     "output_type": "execute_result"
    }
   ],
   "source": [
    "tweets['name'].value_counts()"
   ]
  },
  {
   "cell_type": "code",
   "execution_count": 72,
   "metadata": {},
   "outputs": [
    {
     "data": {
      "text/plain": [
       "1    13\n",
       "Name: screen_name, dtype: int64"
      ]
     },
     "execution_count": 72,
     "metadata": {},
     "output_type": "execute_result"
    }
   ],
   "source": [
    "logic_tweets['screen_name'].value_counts()"
   ]
  },
  {
   "cell_type": "code",
   "execution_count": 73,
   "metadata": {},
   "outputs": [
    {
     "data": {
      "text/plain": [
       "0    13\n",
       "Name: Location, dtype: int64"
      ]
     },
     "execution_count": 73,
     "metadata": {},
     "output_type": "execute_result"
    }
   ],
   "source": [
    "logic_tweets['Location'].value_counts()"
   ]
  },
  {
   "cell_type": "code",
   "execution_count": 74,
   "metadata": {},
   "outputs": [
    {
     "data": {
      "text/plain": [
       "0    13\n",
       "Name: profile_location, dtype: int64"
      ]
     },
     "execution_count": 74,
     "metadata": {},
     "output_type": "execute_result"
    }
   ],
   "source": [
    "logic_tweets['profile_location'].value_counts()"
   ]
  },
  {
   "cell_type": "code",
   "execution_count": 75,
   "metadata": {},
   "outputs": [
    {
     "data": {
      "text/plain": [
       "1    13\n",
       "Name: description, dtype: int64"
      ]
     },
     "execution_count": 75,
     "metadata": {},
     "output_type": "execute_result"
    }
   ],
   "source": [
    "logic_tweets['description'].value_counts()"
   ]
  },
  {
   "cell_type": "code",
   "execution_count": 76,
   "metadata": {},
   "outputs": [
    {
     "data": {
      "text/plain": [
       "0    7\n",
       "1    6\n",
       "Name: url, dtype: int64"
      ]
     },
     "execution_count": 76,
     "metadata": {},
     "output_type": "execute_result"
    }
   ],
   "source": [
    "logic_tweets['url'].value_counts()"
   ]
  },
  {
   "cell_type": "code",
   "execution_count": 77,
   "metadata": {},
   "outputs": [
    {
     "data": {
      "text/plain": [
       "1    13\n",
       "Name: protected, dtype: int64"
      ]
     },
     "execution_count": 77,
     "metadata": {},
     "output_type": "execute_result"
    }
   ],
   "source": [
    "logic_tweets['protected'].value_counts()"
   ]
  },
  {
   "cell_type": "code",
   "execution_count": 80,
   "metadata": {},
   "outputs": [
    {
     "data": {
      "text/plain": [
       "1243    1\n",
       "1147    1\n",
       "1467    1\n",
       "1144    1\n",
       "882     1\n",
       "2669    1\n",
       "1516    1\n",
       "1099    1\n",
       "941     1\n",
       "1545    1\n",
       "1096    1\n",
       "1190    1\n",
       "1475    1\n",
       "Name: followers_count, dtype: int64"
      ]
     },
     "execution_count": 80,
     "metadata": {},
     "output_type": "execute_result"
    }
   ],
   "source": [
    "tweets['followers_count'].value_counts() "
   ]
  },
  {
   "cell_type": "code",
   "execution_count": 59,
   "metadata": {},
   "outputs": [
    {
     "data": {
      "text/plain": [
       "15    2\n",
       "39    2\n",
       "30    1\n",
       "24    1\n",
       "58    1\n",
       "67    1\n",
       "87    1\n",
       "70    1\n",
       "31    1\n",
       "19    1\n",
       "49    1\n",
       "Name: friends_count, dtype: int64"
      ]
     },
     "execution_count": 59,
     "metadata": {},
     "output_type": "execute_result"
    }
   ],
   "source": [
    "#logic_tweets['friends_count'].value_counts() #not use\n",
    "tweets['friends_count'].value_counts() "
   ]
  },
  {
   "cell_type": "code",
   "execution_count": 83,
   "metadata": {},
   "outputs": [
    {
     "data": {
      "text/plain": [
       "1    13\n",
       "Name: created_at, dtype: int64"
      ]
     },
     "execution_count": 83,
     "metadata": {},
     "output_type": "execute_result"
    }
   ],
   "source": [
    "logic_tweets['created_at'].value_counts()"
   ]
  },
  {
   "cell_type": "code",
   "execution_count": 58,
   "metadata": {},
   "outputs": [
    {
     "data": {
      "text/plain": [
       "4479    1\n",
       "829     1\n",
       "2460    1\n",
       "3553    1\n",
       "2773    1\n",
       "6414    1\n",
       "940     1\n",
       "3402    1\n",
       "3432    1\n",
       "932     1\n",
       "2115    1\n",
       "9121    1\n",
       "349     1\n",
       "Name: favourites_count, dtype: int64"
      ]
     },
     "execution_count": 58,
     "metadata": {},
     "output_type": "execute_result"
    }
   ],
   "source": [
    "#logic_tweets['favourites_count'].value_counts() #not use\n",
    "tweets['favourites_count'].value_counts() "
   ]
  },
  {
   "cell_type": "code",
   "execution_count": 53,
   "metadata": {},
   "outputs": [
    {
     "data": {
      "text/plain": [
       "th    11\n",
       "en     2\n",
       "Name: lang, dtype: int64"
      ]
     },
     "execution_count": 53,
     "metadata": {},
     "output_type": "execute_result"
    }
   ],
   "source": [
    "#logic_tweets['lang'].value_counts() #not use\n",
    "tweets['lang'].value_counts()"
   ]
  },
  {
   "cell_type": "code",
   "execution_count": 55,
   "metadata": {},
   "outputs": [
    {
     "data": {
      "text/plain": [
       "0    13\n",
       "Name: profile_backgorund_color, dtype: int64"
      ]
     },
     "execution_count": 55,
     "metadata": {},
     "output_type": "execute_result"
    }
   ],
   "source": [
    "logic_tweets['profile_backgorund_color'].value_counts() "
   ]
  },
  {
   "cell_type": "code",
   "execution_count": 57,
   "metadata": {},
   "outputs": [
    {
     "data": {
      "text/plain": [
       "0    13\n",
       "Name: profile_link_color, dtype: int64"
      ]
     },
     "execution_count": 57,
     "metadata": {},
     "output_type": "execute_result"
    }
   ],
   "source": [
    "logic_tweets['profile_link_color'].value_counts() "
   ]
  },
  {
   "cell_type": "code",
   "execution_count": 49,
   "metadata": {},
   "outputs": [
    {
     "data": {
      "text/plain": [
       "1    13\n",
       "Name: has_extended_profile, dtype: int64"
      ]
     },
     "execution_count": 49,
     "metadata": {},
     "output_type": "execute_result"
    }
   ],
   "source": [
    "logic_tweets['has_extended_profile'].value_counts()"
   ]
  },
  {
   "cell_type": "code",
   "execution_count": 50,
   "metadata": {},
   "outputs": [
    {
     "data": {
      "text/plain": [
       "1    13\n",
       "Name: default_profile, dtype: int64"
      ]
     },
     "execution_count": 50,
     "metadata": {},
     "output_type": "execute_result"
    }
   ],
   "source": [
    "logic_tweets['default_profile'].value_counts()"
   ]
  },
  {
   "cell_type": "code",
   "execution_count": 51,
   "metadata": {},
   "outputs": [
    {
     "data": {
      "text/plain": [
       "1    13\n",
       "Name: default_profile_image, dtype: int64"
      ]
     },
     "execution_count": 51,
     "metadata": {},
     "output_type": "execute_result"
    }
   ],
   "source": [
    "logic_tweets['default_profile_image'].value_counts()"
   ]
  },
  {
   "cell_type": "code",
   "execution_count": null,
   "metadata": {},
   "outputs": [],
   "source": []
  }
 ],
 "metadata": {
  "kernelspec": {
   "display_name": "Python3",
   "language": "python",
   "name": "python_3"
  },
  "language_info": {
   "codemirror_mode": {
    "name": "ipython",
    "version": 3
   },
   "file_extension": ".py",
   "mimetype": "text/x-python",
   "name": "python",
   "nbconvert_exporter": "python",
   "pygments_lexer": "ipython3",
   "version": "3.6.2"
  }
 },
 "nbformat": 4,
 "nbformat_minor": 2
}
